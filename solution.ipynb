{
 "cells": [
  {
   "cell_type": "code",
   "execution_count": 2,
   "id": "429f4d4c-45ea-4b0c-b813-8f29717a8df0",
   "metadata": {},
   "outputs": [],
   "source": [
    "from __future__ import annotations\n",
    "\n",
    "import datetime\n",
    "import logging\n",
    "\n",
    "import catboost\n",
    "import numpy as np\n",
    "import optuna\n",
    "import pandas as pd\n",
    "import plotly.express as px\n",
    "from lightgbm import LGBMRegressor\n",
    "from sklearn.linear_model import Ridge\n",
    "from sklearn.metrics import roc_auc_score\n",
    "from sklearn.model_selection import KFold, StratifiedKFold, train_test_split\n",
    "from xgboost import XGBRegressor\n",
    "\n",
    "logging.basicConfig(format=\"%(asctime)s %(levelname)s %(message)s\", level=\"INFO\")\n",
    "log = logging.getLogger(\"notebook\")"
   ]
  },
  {
   "cell_type": "code",
   "execution_count": 7,
   "id": "73b0c6cc-5fc6-462f-b9f8-9f7eb4f481df",
   "metadata": {},
   "outputs": [],
   "source": [
    "train_df = pd.read_csv(\"./data/train.csv\")\n",
    "test_df = pd.read_csv(\"./data/test.csv\")\n",
    "test_id_list = list(test_df[\"id\"])\n",
    "\n",
    "train_df = train_df.drop(columns=[\"id\"])\n",
    "test_df = test_df.drop(columns=[\"id\"])"
   ]
  },
  {
   "cell_type": "code",
   "execution_count": 9,
   "id": "04acd013-0661-406e-aaba-1220aa82f1e1",
   "metadata": {},
   "outputs": [],
   "source": [
    "def feature_engineering(df):\n",
    "    df = df.copy()\n",
    "    df[\"age_group\"] = df[\"person_age\"].clip(lower=0, upper=99).map(lambda x: x // 10 * 10)\n",
    "    df[\"loan_to_income\"] = df[\"loan_amnt\"] / df[\"person_income\"]\n",
    "    return df\n",
    "\n",
    "\n",
    "train_df = feature_engineering(train_df)\n",
    "test_df = feature_engineering(test_df)"
   ]
  },
  {
   "cell_type": "code",
   "execution_count": 12,
   "id": "5807a82a-de3e-478e-a942-747e2908cbbd",
   "metadata": {
    "scrolled": true
   },
   "outputs": [],
   "source": [
    "cat_features = [\n",
    "    \"person_home_ownership\",\n",
    "    \"loan_intent\",\n",
    "    \"loan_grade\",\n",
    "    \"cb_person_default_on_file\",\n",
    "    \"age_group\",\n",
    "]\n",
    "num_features = [\n",
    "    'person_age',\n",
    "    'person_income',\n",
    "    'person_emp_length',\n",
    "    'loan_amnt',\n",
    "    'loan_int_rate',\n",
    "    'loan_percent_income',\n",
    "    'cb_person_cred_hist_length',\n",
    "    'loan_to_income',\n",
    "]"
   ]
  },
  {
   "cell_type": "markdown",
   "id": "a1f341b8-1b73-4777-80d8-9aedd7110f89",
   "metadata": {},
   "source": [
    "## Hyper parameter tunning with Optuna"
   ]
  },
  {
   "cell_type": "code",
   "execution_count": null,
   "id": "f095452a-7620-4979-b57f-75f43b3ff5d4",
   "metadata": {},
   "outputs": [],
   "source": [
    "# def objective(trial):\n",
    "#     cv = StratifiedKFold(5, shuffle=True, random_state=9999)\n",
    "#     param = {\n",
    "#         \"objective\": trial.suggest_categorical(\"objective\", [\"Logloss\", \"CrossEntropy\"]),\n",
    "#         \"colsample_bylevel\": trial.suggest_float(\"colsample_bylevel\", 0.01, 0.1),\n",
    "#         \"depth\": trial.suggest_int(\"depth\", 1, 12),\n",
    "#         \"eval_metric\": \"AUC\",\n",
    "#         \"cat_features\": cat_features,\n",
    "#         \"random_state\": 9999,\n",
    "#         \"iterations\": 1000,\n",
    "#         \"learning_rate\": trial.suggest_float('learning_rate', 0.01, 0.3, log=True),\n",
    "#         'l2_leaf_reg': trial.suggest_float('l2_leaf_reg', 1e-1, 1.0, log=True),\n",
    "#     }\n",
    "#     score_list = []\n",
    "#     for train_idx, val_idx in cv.split(train_df, y=train_df[\"loan_status\"]):\n",
    "#         train_x = train_df.iloc[train_idx][cat_features + num_features]\n",
    "#         train_y = train_df.iloc[train_idx][\"loan_status\"]\n",
    "#         valid_x = train_df.iloc[val_idx][cat_features + num_features]\n",
    "#         valid_y = train_df.iloc[val_idx][\"loan_status\"]\n",
    "#         cb_clf = catboost.CatBoostClassifier(**param)\n",
    "#         cb_clf.fit(train_x, train_y, eval_set=[(valid_x, valid_y)], verbose=0, early_stopping_rounds=200)\n",
    "#         valid_y_pred = cb_clf.predict_proba(valid_x)[:, 1]\n",
    "#         score = roc_auc_score(valid_y, valid_y_pred)\n",
    "#         score_list.append(score)\n",
    "#     return np.mean(score_list)\n",
    "\n",
    "\n",
    "# study = optuna.create_study(direction=\"maximize\")\n",
    "# study.optimize(objective, n_trials=200)\n",
    "# cb_clf_params = study.best_params\n",
    "\n",
    "# Best is trial 36 with value: 0.9553711593693648.\n",
    "# cb_clf_params = {\n",
    "#     'objective': 'Logloss',\n",
    "#     'colsample_bylevel': 0.0993013825516781,\n",
    "#     'depth': 5,\n",
    "#     'learning_rate': 0.29432288832602616,\n",
    "#     'l2_leaf_reg': 0.8531657930570534,\n",
    "# }"
   ]
  },
  {
   "cell_type": "markdown",
   "id": "437c84f6-98ca-415e-a1d1-9707c8340d14",
   "metadata": {},
   "source": [
    "## Create Submission"
   ]
  },
  {
   "cell_type": "markdown",
   "id": "582b2c2d-4919-45ed-81eb-9afe598b9078",
   "metadata": {},
   "source": [
    "### Vanilla version"
   ]
  },
  {
   "cell_type": "code",
   "execution_count": null,
   "id": "7efbbc0d-730e-4272-b9d7-3934532774ff",
   "metadata": {},
   "outputs": [],
   "source": [
    "# params = {\n",
    "#     'objective': 'Logloss',\n",
    "#     'colsample_bylevel': 0.0993013825516781,\n",
    "#     'depth': 5,\n",
    "#     'learning_rate': 0.29432288832602616,\n",
    "#     'l2_leaf_reg': 0.8531657930570534,\n",
    "#     \"eval_metric\": \"AUC\",\n",
    "#     \"random_state\": 9999,\n",
    "#     \"iterations\": 1000,\n",
    "#     \"cat_features\": cat_features,\n",
    "# }\n",
    "# cb_clf = catboost.CatBoostClassifier(**params)\n",
    "# cb_clf.fit(train_df[cat_features + num_features], train_df[\"loan_status\"])\n",
    "# test_y_pred = cb_clf.predict_proba(test_df[cat_features + num_features])[:, 1]\n",
    "# pd.DataFrame({\"id\": test_id_list, \"loan_status\": test_y_pred}).to_csv(\n",
    "#     \"./data/catboost_vanilla.csv\", index=False\n",
    "# )"
   ]
  },
  {
   "cell_type": "markdown",
   "id": "903e5709-df19-40f8-9f18-0e25940c2f8e",
   "metadata": {},
   "source": [
    "### Catboost + CV mean"
   ]
  },
  {
   "cell_type": "code",
   "execution_count": 13,
   "id": "822bf045-2bad-49cd-a9ba-05dd6ee88c78",
   "metadata": {},
   "outputs": [
    {
     "name": "stderr",
     "output_type": "stream",
     "text": [
      "2024-10-10 19:00:54,291 INFO cv_score: 0.9488856465416913\n",
      "2024-10-10 19:01:07,597 INFO cv_score: 0.9511956105683056\n",
      "2024-10-10 19:01:21,112 INFO cv_score: 0.9472344901607462\n",
      "2024-10-10 19:01:34,121 INFO cv_score: 0.9508421867865819\n",
      "2024-10-10 19:01:49,028 INFO cv_score: 0.9433374229768916\n"
     ]
    }
   ],
   "source": [
    "cv_pred_dict = {}\n",
    "cv = StratifiedKFold(5, shuffle=True, random_state=9999)\n",
    "params = {\n",
    "    'objective': 'Logloss',\n",
    "    'colsample_bylevel': 0.0993013825516781,\n",
    "    'depth': 5,\n",
    "    'learning_rate': 0.29432288832602616,\n",
    "    'l2_leaf_reg': 0.8531657930570534,\n",
    "    \"eval_metric\": \"AUC\",\n",
    "    \"random_state\": 9999,\n",
    "    \"iterations\": 1000,\n",
    "    \"cat_features\": cat_features,\n",
    "}\n",
    "for cv_idx, (train_idx, val_idx) in zip(range(5), cv.split(train_df, y=train_df[\"loan_status\"])):\n",
    "    train_x = train_df.iloc[train_idx][cat_features + num_features]\n",
    "    train_y = train_df.iloc[train_idx][\"loan_status\"]\n",
    "    valid_x = train_df.iloc[val_idx][cat_features + num_features]\n",
    "    valid_y = train_df.iloc[val_idx][\"loan_status\"]\n",
    "    cb_clf = catboost.CatBoostClassifier(**params)\n",
    "    cb_clf.fit(train_x, train_y, eval_set=[(valid_x, valid_y)], verbose=0, early_stopping_rounds=200)\n",
    "\n",
    "    valid_y_pred = cb_clf.predict_proba(valid_x[cat_features + num_features])[:, 1]\n",
    "    cv_score = roc_auc_score(valid_y, valid_y_pred)\n",
    "    log.info(\"cv_score: %s\", cv_score)\n",
    "\n",
    "    test_y_pred = cb_clf.predict_proba(test_df[cat_features + num_features])[:, 1]\n",
    "    cv_key = f\"cv{cv_idx}\"\n",
    "    if cv_key not in cv_pred_dict:\n",
    "        cv_pred_dict[cv_key] = test_y_pred\n",
    "cv_pred_df = pd.DataFrame(cv_pred_dict)\n",
    "test_y_pred = cv_pred_df.mean(axis=1)\n",
    "pd.DataFrame({\"id\": test_id_list, \"loan_status\": test_y_pred}).to_csv(\n",
    "    \"./data/catboost_cv_mean.csv\", index=False\n",
    ")"
   ]
  }
 ],
 "metadata": {
  "kernelspec": {
   "display_name": "Python 3 (ipykernel)",
   "language": "python",
   "name": "python3"
  },
  "language_info": {
   "codemirror_mode": {
    "name": "ipython",
    "version": 3
   },
   "file_extension": ".py",
   "mimetype": "text/x-python",
   "name": "python",
   "nbconvert_exporter": "python",
   "pygments_lexer": "ipython3",
   "version": "3.10.15"
  }
 },
 "nbformat": 4,
 "nbformat_minor": 5
}
