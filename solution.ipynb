{
 "cells": [
  {
   "cell_type": "code",
   "execution_count": 2,
   "id": "429f4d4c-45ea-4b0c-b813-8f29717a8df0",
   "metadata": {},
   "outputs": [],
   "source": [
    "from __future__ import annotations\n",
    "\n",
    "import datetime\n",
    "import logging\n",
    "\n",
    "import catboost\n",
    "import numpy as np\n",
    "import optuna\n",
    "import pandas as pd\n",
    "import plotly.express as px\n",
    "from lightgbm import LGBMRegressor\n",
    "from sklearn.linear_model import Ridge\n",
    "from sklearn.metrics import roc_auc_score\n",
    "from sklearn.model_selection import KFold, train_test_split\n",
    "from xgboost import XGBRegressor\n",
    "\n",
    "logging.basicConfig(format=\"%(asctime)s %(levelname)s %(message)s\", level=\"INFO\")\n",
    "log = logging.getLogger(\"notebook\")"
   ]
  },
  {
   "cell_type": "code",
   "execution_count": 3,
   "id": "73b0c6cc-5fc6-462f-b9f8-9f7eb4f481df",
   "metadata": {},
   "outputs": [],
   "source": [
    "train_df = pd.read_csv(\"./data/train.csv\")\n",
    "test_df = pd.read_csv(\"./data/test.csv\")\n",
    "test_id_list = list(test_df[\"id\"])\n",
    "\n",
    "train_df = train_df.drop(columns=[\"id\"])\n",
    "test_df = test_df.drop(columns=[\"id\"])"
   ]
  },
  {
   "cell_type": "code",
   "execution_count": 7,
   "id": "04acd013-0661-406e-aaba-1220aa82f1e1",
   "metadata": {},
   "outputs": [],
   "source": [
    "train_df[\"person_age_1\"] = (\n",
    "    train_df[\"person_age\"].clip(lower=0, upper=99).map(lambda x: x // 10).value_counts()\n",
    ")\n",
    "test_df[\"person_age_1\"] = test_df[\"person_age\"].clip(lower=0, upper=99).map(lambda x: x // 10).value_counts()"
   ]
  },
  {
   "cell_type": "code",
   "execution_count": 21,
   "id": "5807a82a-de3e-478e-a942-747e2908cbbd",
   "metadata": {
    "scrolled": true
   },
   "outputs": [],
   "source": [
    "cat_features = [\"person_home_ownership\", \"loan_intent\", \"loan_grade\", \"cb_person_default_on_file\"]\n",
    "num_features = [\n",
    "    'person_age',\n",
    "    'person_age_1',\n",
    "    'person_income',\n",
    "    'person_emp_length',\n",
    "    'loan_amnt',\n",
    "    'loan_int_rate',\n",
    "    'loan_percent_income',\n",
    "    'cb_person_cred_hist_length',\n",
    "]"
   ]
  },
  {
   "cell_type": "code",
   "execution_count": 23,
   "id": "f095452a-7620-4979-b57f-75f43b3ff5d4",
   "metadata": {},
   "outputs": [],
   "source": [
    "# def objective(trial):\n",
    "#     train_subset, valid_subset = train_test_split(train_df, test_size=0.3)\n",
    "#     train_x = train_subset[cat_features + num_features]\n",
    "#     train_y = train_subset[\"loan_status\"]\n",
    "#     valid_x = valid_subset[cat_features + num_features]\n",
    "#     valid_y = valid_subset[\"loan_status\"]\n",
    "#     param = {\n",
    "#         \"objective\": trial.suggest_categorical(\"objective\", [\"Logloss\", \"CrossEntropy\"]),\n",
    "#         \"colsample_bylevel\": trial.suggest_float(\"colsample_bylevel\", 0.01, 0.1),\n",
    "#         \"depth\": trial.suggest_int(\"depth\", 1, 12),\n",
    "#         \"eval_metric\": \"AUC\",\n",
    "#         \"cat_features\": cat_features,\n",
    "#         \"random_state\": 9999,\n",
    "#         \"iterations\": 1000,\n",
    "#         \"learning_rate\": trial.suggest_float('learning_rate', 0.01, 0.3, log=True),\n",
    "#         'l2_leaf_reg': trial.suggest_float('l2_leaf_reg', 1e-1, 1.0, log=True),\n",
    "#     }\n",
    "\n",
    "#     cb_clf = catboost.CatBoostClassifier(**param)\n",
    "#     cb_clf.fit(train_x, train_y, eval_set=[(valid_x, valid_y)], verbose=0, early_stopping_rounds=200)\n",
    "#     # val_y_pred = cb_clf.predict_(valid_x)\n",
    "#     # val_y_pred = np.rint(val_y_pred)\n",
    "#     val_y_pred = cb_clf.predict_proba(valid_x)[:, 1]\n",
    "#     score = roc_auc_score(valid_y, val_y_pred)\n",
    "#     return score\n",
    "\n",
    "\n",
    "# study = optuna.create_study(direction=\"maximize\")\n",
    "# study.optimize(objective, n_trials=100)\n",
    "# cb_clf_params = study.best_params\n",
    "# log.info(\"cb_clf_params: %s\", cb_clf_params)\n",
    "\n",
    "# Best is trial 36 with value: 0.9553711593693648.\n",
    "cb_clf_params = {\n",
    "    'objective': 'Logloss',\n",
    "    'colsample_bylevel': 0.0993013825516781,\n",
    "    'depth': 5,\n",
    "    'learning_rate': 0.29432288832602616,\n",
    "    'l2_leaf_reg': 0.8531657930570534,\n",
    "}"
   ]
  },
  {
   "cell_type": "code",
   "execution_count": 28,
   "id": "7efbbc0d-730e-4272-b9d7-3934532774ff",
   "metadata": {},
   "outputs": [],
   "source": [
    "cb_clf = catboost.CatBoostClassifier(\n",
    "    random_state=9999,\n",
    "    cat_features=cat_features,\n",
    "    eval_metric=\"AUC\",\n",
    "    iterations=1000,\n",
    "    verbose=0,\n",
    "    **cb_clf_params,\n",
    ")\n",
    "cb_clf.fit(train_df[cat_features + num_features], train_df[\"loan_status\"])\n",
    "test_y_pred = cb_clf.predict_proba(test_df[cat_features + num_features])[:, 1]\n",
    "pd.DataFrame({\"id\": test_id_list, \"loan_status\": test_y_pred}).to_csv(\n",
    "    \"./data/catboost_vanilla.csv\", index=False\n",
    ")"
   ]
  }
 ],
 "metadata": {
  "kernelspec": {
   "display_name": "Python 3 (ipykernel)",
   "language": "python",
   "name": "python3"
  },
  "language_info": {
   "codemirror_mode": {
    "name": "ipython",
    "version": 3
   },
   "file_extension": ".py",
   "mimetype": "text/x-python",
   "name": "python",
   "nbconvert_exporter": "python",
   "pygments_lexer": "ipython3",
   "version": "3.10.15"
  }
 },
 "nbformat": 4,
 "nbformat_minor": 5
}
