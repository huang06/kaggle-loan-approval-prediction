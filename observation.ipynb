{
 "cells": [
  {
   "cell_type": "code",
   "execution_count": 1,
   "id": "84add77e-7dc9-49d3-a6ea-1432c3590b19",
   "metadata": {},
   "outputs": [],
   "source": [
    "from __future__ import annotations\n",
    "\n",
    "import datetime\n",
    "\n",
    "import numpy as np\n",
    "import pandas as pd\n",
    "import plotly.express as px\n",
    "from ydata_profiling import ProfileReport"
   ]
  },
  {
   "cell_type": "code",
   "execution_count": 2,
   "id": "a58510b3-1b2c-4b80-b5f3-b256086a3606",
   "metadata": {},
   "outputs": [],
   "source": [
    "train_df = pd.read_csv(\"./data/train.csv\")\n",
    "test_df = pd.read_csv(\"./data/test.csv\")\n",
    "\n",
    "# person_age \tAge 年齡\n",
    "# person_income \tAnnual Income 年收入\n",
    "# person_home_ownership \tHome ownership 居所\n",
    "# person_emp_length \tEmployment length (in years) 雇傭期\n",
    "# loan_intent \tLoan intent 貸款意向\n",
    "# loan_grade \tLoan grade 貸款級別\n",
    "# loan_amnt \tLoan amount 貸款金額\n",
    "# loan_int_rate \tInterest rate 利率\n",
    "# loan_status \tLoan status (0 is non default 1 is default)\n",
    "# 貸款狀態（0 為非違約，1 為違約）\n",
    "# loan_percent_income \tPercent income 收入百分比\n",
    "# cb_person_default_on_file \tHistorical default 歷史違約\n",
    "# cb_preson_cred_hist_length \tCredit history length 信用歷史長度"
   ]
  },
  {
   "cell_type": "code",
   "execution_count": null,
   "id": "469faf6a-9cfa-4a25-92d1-f84caddb10d9",
   "metadata": {},
   "outputs": [],
   "source": [
    "train_df[\"person_age\"].value_counts()"
   ]
  },
  {
   "cell_type": "code",
   "execution_count": null,
   "id": "f1a92b61-56d7-4be9-8006-a73be57d8c7c",
   "metadata": {},
   "outputs": [],
   "source": [
    "train_df.groupby(\"person_age\")[\"loan_status\"].sum()"
   ]
  },
  {
   "cell_type": "code",
   "execution_count": 6,
   "id": "44ce9a1d-2ba0-46a8-9c73-38f199519c13",
   "metadata": {},
   "outputs": [
    {
     "data": {
      "application/vnd.jupyter.widget-view+json": {
       "model_id": "2483b08b489546b1a804461bf4978095",
       "version_major": 2,
       "version_minor": 0
      },
      "text/plain": [
       "Summarize dataset:   0%|          | 0/5 [00:00<?, ?it/s]"
      ]
     },
     "metadata": {},
     "output_type": "display_data"
    },
    {
     "data": {
      "application/vnd.jupyter.widget-view+json": {
       "model_id": "09b35d16a50d4bacba37966da36ef75c",
       "version_major": 2,
       "version_minor": 0
      },
      "text/plain": [
       "Generate report structure:   0%|          | 0/1 [00:00<?, ?it/s]"
      ]
     },
     "metadata": {},
     "output_type": "display_data"
    },
    {
     "data": {
      "application/vnd.jupyter.widget-view+json": {
       "model_id": "a51406d45c3a439db762ad91f2c2d14a",
       "version_major": 2,
       "version_minor": 0
      },
      "text/plain": [
       "Render HTML:   0%|          | 0/1 [00:00<?, ?it/s]"
      ]
     },
     "metadata": {},
     "output_type": "display_data"
    }
   ],
   "source": [
    "profile = ProfileReport(train_df, title=\"Profiling Report\")\n",
    "with open(\"./train_profile.html\", \"w\") as fp:\n",
    "    fp.write(profile.to_html())"
   ]
  },
  {
   "cell_type": "code",
   "execution_count": 7,
   "id": "5a68aa49-22cf-45f9-9bad-cd29a9492e46",
   "metadata": {},
   "outputs": [
    {
     "data": {
      "application/vnd.jupyter.widget-view+json": {
       "model_id": "c04776974113446e893f9d60548b6f58",
       "version_major": 2,
       "version_minor": 0
      },
      "text/plain": [
       "Summarize dataset:   0%|          | 0/5 [00:00<?, ?it/s]"
      ]
     },
     "metadata": {},
     "output_type": "display_data"
    },
    {
     "data": {
      "application/vnd.jupyter.widget-view+json": {
       "model_id": "49b5c3cfd2ee4e9d983d455a26be0a26",
       "version_major": 2,
       "version_minor": 0
      },
      "text/plain": [
       "Generate report structure:   0%|          | 0/1 [00:00<?, ?it/s]"
      ]
     },
     "metadata": {},
     "output_type": "display_data"
    },
    {
     "data": {
      "application/vnd.jupyter.widget-view+json": {
       "model_id": "d761003c74e74da7864f53e3d1f90616",
       "version_major": 2,
       "version_minor": 0
      },
      "text/plain": [
       "Render HTML:   0%|          | 0/1 [00:00<?, ?it/s]"
      ]
     },
     "metadata": {},
     "output_type": "display_data"
    }
   ],
   "source": [
    "profile = ProfileReport(test_df, title=\"Profiling Report\")\n",
    "with open(\"./test_profile.html\", \"w\") as fp:\n",
    "    fp.write(profile.to_html())"
   ]
  }
 ],
 "metadata": {
  "kernelspec": {
   "display_name": "Python 3 (ipykernel)",
   "language": "python",
   "name": "python3"
  },
  "language_info": {
   "codemirror_mode": {
    "name": "ipython",
    "version": 3
   },
   "file_extension": ".py",
   "mimetype": "text/x-python",
   "name": "python",
   "nbconvert_exporter": "python",
   "pygments_lexer": "ipython3",
   "version": "3.10.15"
  }
 },
 "nbformat": 4,
 "nbformat_minor": 5
}
